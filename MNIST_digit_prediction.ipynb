{
  "nbformat": 4,
  "nbformat_minor": 0,
  "metadata": {
    "colab": {
      "provenance": []
    },
    "kernelspec": {
      "name": "python3",
      "display_name": "Python 3"
    },
    "language_info": {
      "name": "python"
    }
  },
  "cells": [
    {
      "cell_type": "code",
      "source": [
        "#https://pjreddie.com/projects/mnist-in-csv/\n",
        "!wget https://pjreddie.com/media/files/mnist_train.csv\n",
        "!wget https://pjreddie.com/media/files/mnist_test.csv"
      ],
      "metadata": {
        "id": "3VvgeQMbWDyY",
        "colab": {
          "base_uri": "https://localhost:8080/"
        },
        "outputId": "e717cd35-eca9-4379-d79d-36f62ca6d82f"
      },
      "execution_count": 1,
      "outputs": [
        {
          "output_type": "stream",
          "name": "stdout",
          "text": [
            "--2023-01-26 05:41:12--  https://pjreddie.com/media/files/mnist_train.csv\n",
            "Resolving pjreddie.com (pjreddie.com)... 128.208.4.108\n",
            "Connecting to pjreddie.com (pjreddie.com)|128.208.4.108|:443... connected.\n",
            "HTTP request sent, awaiting response... 200 OK\n",
            "Length: 109575994 (104M) [application/octet-stream]\n",
            "Saving to: ‘mnist_train.csv’\n",
            "\n",
            "mnist_train.csv     100%[===================>] 104.50M  34.4MB/s    in 3.0s    \n",
            "\n",
            "2023-01-26 05:41:16 (34.4 MB/s) - ‘mnist_train.csv’ saved [109575994/109575994]\n",
            "\n",
            "--2023-01-26 05:41:16--  https://pjreddie.com/media/files/mnist_test.csv\n",
            "Resolving pjreddie.com (pjreddie.com)... 128.208.4.108\n",
            "Connecting to pjreddie.com (pjreddie.com)|128.208.4.108|:443... connected.\n",
            "HTTP request sent, awaiting response... 200 OK\n",
            "Length: 18289443 (17M) [application/octet-stream]\n",
            "Saving to: ‘mnist_test.csv’\n",
            "\n",
            "mnist_test.csv      100%[===================>]  17.44M  20.9MB/s    in 0.8s    \n",
            "\n",
            "2023-01-26 05:41:17 (20.9 MB/s) - ‘mnist_test.csv’ saved [18289443/18289443]\n",
            "\n"
          ]
        }
      ]
    },
    {
      "cell_type": "code",
      "source": [
        "import torch\n",
        "import torch.nn as nn\n",
        "from torch.utils.data import Dataset,DataLoader,random_split\n",
        "import torch.nn.functional as F\n",
        "import cv2\n",
        "import numpy as np\n",
        "import matplotlib.pyplot as plt"
      ],
      "metadata": {
        "id": "9Dt-LTdTps1-"
      },
      "execution_count": 2,
      "outputs": []
    },
    {
      "cell_type": "code",
      "source": [
        "class MNISTDataset(Dataset):\n",
        "  def __init__(self,fname):\n",
        "    self.data = np.loadtxt(\n",
        "        fname = fname,\n",
        "        dtype = np.float32,\n",
        "        delimiter=','\n",
        "    )\n",
        "\n",
        "  def getdata(self):\n",
        "    return self.data\n",
        "  \n",
        "  def __getitem__(self,index):\n",
        "    x1 = np.array(self.data[index,1:],dtype = np.float32)\n",
        "    x2 = torch.tensor(cv2.copyMakeBorder(x1.reshape(28,28),2,2,2,2,borderType = cv2.BORDER_CONSTANT),dtype = torch.float32)\n",
        "    x = x2.reshape(1,32,32)\n",
        "\n",
        "    y = torch.tensor(self.data[index,0],dtype = torch.int64)\n",
        "\n",
        "    return x,y\n",
        "\n",
        "  def __len__(self):\n",
        "    return len(self.data)"
      ],
      "metadata": {
        "id": "gFDD2sphkrwe"
      },
      "execution_count": 3,
      "outputs": []
    },
    {
      "cell_type": "code",
      "source": [
        "train_data = MNISTDataset('/content/mnist_train.csv')\n",
        "test_data = MNISTDataset('/content/mnist_test.csv')"
      ],
      "metadata": {
        "id": "ZNYGL17LMQgp"
      },
      "execution_count": 4,
      "outputs": []
    },
    {
      "cell_type": "code",
      "source": [
        "img,label = test_data[0]\n",
        "img.shape"
      ],
      "metadata": {
        "colab": {
          "base_uri": "https://localhost:8080/"
        },
        "id": "hvyTPmsiOgAg",
        "outputId": "9c89188d-5fb6-4577-cff0-97d59652d7b2"
      },
      "execution_count": 5,
      "outputs": [
        {
          "output_type": "stream",
          "name": "stderr",
          "text": [
            "<ipython-input-3-5bab91fdc8db>:17: DeprecationWarning: an integer is required (got type numpy.float32).  Implicit conversion to integers using __int__ is deprecated, and may be removed in a future version of Python.\n",
            "  y = torch.tensor(self.data[index,0],dtype = torch.int64)\n"
          ]
        },
        {
          "output_type": "execute_result",
          "data": {
            "text/plain": [
              "torch.Size([1, 32, 32])"
            ]
          },
          "metadata": {},
          "execution_count": 5
        }
      ]
    },
    {
      "cell_type": "code",
      "source": [
        "x1 = np.ones((28,28),dtype = np.float32)\n",
        "x2 = torch.tensor(np.pad(x1,pad_width=2,mode = 'constant',constant_values = 0),dtype = torch.float32)\n",
        "x = x2.reshape((1,32,32))\n",
        "x.shape"
      ],
      "metadata": {
        "colab": {
          "base_uri": "https://localhost:8080/"
        },
        "id": "tgVhRei7O3As",
        "outputId": "3ed3f34a-70c2-446b-a061-dedd5f76beff"
      },
      "execution_count": 6,
      "outputs": [
        {
          "output_type": "execute_result",
          "data": {
            "text/plain": [
              "torch.Size([1, 32, 32])"
            ]
          },
          "metadata": {},
          "execution_count": 6
        }
      ]
    },
    {
      "cell_type": "code",
      "source": [
        "plt.figure(figsize=(16,10))\n",
        "for i in range(20):\n",
        "  plt.subplot(4,5,i+1)\n",
        "  img,label = train_data[i]\n",
        "  plt.imshow(img.reshape(32,32),cmap = plt.get_cmap('gray'))\n",
        "  plt.title(f'Label: {label}')\n",
        "  plt.xticks([])\n",
        "  plt.yticks([])\n",
        "plt.show()"
      ],
      "metadata": {
        "colab": {
          "base_uri": "https://localhost:8080/",
          "height": 649
        },
        "id": "Zi1-a9kvRvWv",
        "outputId": "3ee5fccd-851c-496d-ffb0-bfc56a6ea53a"
      },
      "execution_count": 7,
      "outputs": [
        {
          "output_type": "stream",
          "name": "stderr",
          "text": [
            "<ipython-input-3-5bab91fdc8db>:17: DeprecationWarning: an integer is required (got type numpy.float32).  Implicit conversion to integers using __int__ is deprecated, and may be removed in a future version of Python.\n",
            "  y = torch.tensor(self.data[index,0],dtype = torch.int64)\n"
          ]
        },
        {
          "output_type": "display_data",
          "data": {
            "text/plain": [
              "<Figure size 1152x720 with 20 Axes>"
            ],
            "image/png": "[encoded data removed]"
          },
          "metadata": {}
        }
      ]
    },
    {
      "cell_type": "code",
      "source": [
        "train_loader = DataLoader(dataset = train_data,batch_size=1200)\n",
        "test_loader = DataLoader(dataset = test_data,batch_size=1200)"
      ],
      "metadata": {
        "id": "VI3vaok-Zpky"
      },
      "execution_count": 8,
      "outputs": []
    },
    {
      "cell_type": "code",
      "source": [
        "class LeNet(nn.Module):\n",
        "  def __init__(self):\n",
        "    super(LeNet, self).__init__()\n",
        "\n",
        "    self.conv1 = nn.Conv2d(in_channels = 1, out_channels = 6, \n",
        "                           kernel_size = 5, stride = 1, padding = 0)\n",
        "    self.conv2 = nn.Conv2d(in_channels = 6, out_channels = 16, \n",
        "                           kernel_size = 5, stride = 1, padding = 0)\n",
        "    self.conv3 = nn.Conv2d(in_channels = 16, out_channels = 120, \n",
        "                           kernel_size = 5, stride = 1, padding = 0)\n",
        "    self.linear1 = nn.Linear(120, 84)\n",
        "    self.linear2 = nn.Linear(84, 10)\n",
        "    self.tanh = nn.Tanh()\n",
        "    self.avgpool = nn.AvgPool2d(kernel_size = 2, stride = 2)\n",
        "\n",
        "  def forward(self, x):\n",
        "    x = self.conv1(x)\n",
        "    x = self.tanh(x)\n",
        "    x = self.avgpool(x)\n",
        "    x = self.conv2(x)\n",
        "    x = self.tanh(x)\n",
        "    x = self.avgpool(x)\n",
        "    x = self.conv3(x)\n",
        "    x = self.tanh(x)\n",
        "    \n",
        "    x = x.reshape(x.shape[0], -1)\n",
        "    x = self.linear1(x)\n",
        "    x = self.tanh(x)\n",
        "    x = self.linear2(x)\n",
        "    return x"
      ],
      "metadata": {
        "id": "cakzXNMAaSLm"
      },
      "execution_count": 9,
      "outputs": []
    },
    {
      "cell_type": "code",
      "source": [
        "model = LeNet()"
      ],
      "metadata": {
        "id": "ndZE1GK-aviS"
      },
      "execution_count": 10,
      "outputs": []
    },
    {
      "cell_type": "code",
      "source": [
        "criterion = nn.CrossEntropyLoss()\n",
        "lr = 0.001\n",
        "optimizer = torch.optim.Adam(model.parameters(),lr=lr)"
      ],
      "metadata": {
        "id": "Uex3S2KFazVK"
      },
      "execution_count": 11,
      "outputs": []
    },
    {
      "cell_type": "code",
      "source": [
        "num_epochs = 10\n",
        "total_step = len(train_loader)\n",
        "for epoch in range(num_epochs):\n",
        "  loss_list = []\n",
        "  total_loss = 0\n",
        "  for i ,(train_x,train_y) in enumerate(train_loader):\n",
        "    output = model(train_x)\n",
        "    loss = criterion(output,train_y)\n",
        "    total_loss += loss\n",
        "    loss_list.append(loss)\n",
        "\n",
        "    # backward\n",
        "    loss.backward()\n",
        "\n",
        "    # update\n",
        "    optimizer.step()\n",
        "\n",
        "    optimizer.zero_grad()\n",
        "  print(f'Epoch:[{epoch+1}/{num_epochs}] Step:[{i+1}/{total_step}] Loss:[{(total_loss/total_step).item():.6f}]')\n"
      ],
      "metadata": {
        "colab": {
          "base_uri": "https://localhost:8080/"
        },
        "id": "au5hNt5ka14O",
        "outputId": "7641b184-f63d-4860-e0da-0e7134bf60bd"
      },
      "execution_count": 12,
      "outputs": [
        {
          "output_type": "stream",
          "name": "stderr",
          "text": [
            "<ipython-input-3-5bab91fdc8db>:17: DeprecationWarning: an integer is required (got type numpy.float32).  Implicit conversion to integers using __int__ is deprecated, and may be removed in a future version of Python.\n",
            "  y = torch.tensor(self.data[index,0],dtype = torch.int64)\n"
          ]
        },
        {
          "output_type": "stream",
          "name": "stdout",
          "text": [
            "Epoch:[1/10] Step:[50/50] Loss:[1.061936]\n",
            "Epoch:[2/10] Step:[50/50] Loss:[0.296574]\n",
            "Epoch:[3/10] Step:[50/50] Loss:[0.158865]\n",
            "Epoch:[4/10] Step:[50/50] Loss:[0.106091]\n",
            "Epoch:[5/10] Step:[50/50] Loss:[0.082816]\n",
            "Epoch:[6/10] Step:[50/50] Loss:[0.068884]\n",
            "Epoch:[7/10] Step:[50/50] Loss:[0.059091]\n",
            "Epoch:[8/10] Step:[50/50] Loss:[0.052187]\n",
            "Epoch:[9/10] Step:[50/50] Loss:[0.046806]\n",
            "Epoch:[10/10] Step:[50/50] Loss:[0.042022]\n"
          ]
        }
      ]
    },
    {
      "cell_type": "code",
      "source": [
        "img,label = next(iter(test_loader))\n",
        "pred = model(img)\n",
        "pred_1 = torch.argmax(pred,dim = 1)"
      ],
      "metadata": {
        "colab": {
          "base_uri": "https://localhost:8080/"
        },
        "id": "1Ahd1zKudejC",
        "outputId": "62059e85-a553-41f4-ec4a-d26852553727"
      },
      "execution_count": 13,
      "outputs": [
        {
          "output_type": "stream",
          "name": "stderr",
          "text": [
            "<ipython-input-3-5bab91fdc8db>:17: DeprecationWarning: an integer is required (got type numpy.float32).  Implicit conversion to integers using __int__ is deprecated, and may be removed in a future version of Python.\n",
            "  y = torch.tensor(self.data[index,0],dtype = torch.int64)\n"
          ]
        }
      ]
    },
    {
      "cell_type": "code",
      "source": [
        "from sklearn.metrics import confusion_matrix\n",
        "conf_mat = confusion_matrix(pred_1,label)\n",
        "conf_mat"
      ],
      "metadata": {
        "colab": {
          "base_uri": "https://localhost:8080/"
        },
        "id": "s4_fuPpqc3NX",
        "outputId": "021ab678-dd0c-4478-e7ab-06d6534a4660"
      },
      "execution_count": 14,
      "outputs": [
        {
          "output_type": "execute_result",
          "data": {
            "text/plain": [
              "array([[100,   0,   0,   0,   0,   0,   3,   0,   1,   0],\n",
              "       [  0, 146,   0,   0,   0,   0,   0,   1,   0,   0],\n",
              "       [  0,   0, 133,   0,   0,   0,   0,   0,   1,   0],\n",
              "       [  0,   0,   1, 125,   0,   0,   0,   1,   0,   0],\n",
              "       [  0,   0,   0,   0, 135,   0,   0,   0,   0,   0],\n",
              "       [  0,   0,   0,   1,   0, 107,   2,   1,   0,   0],\n",
              "       [  0,   0,   0,   0,   0,   0, 100,   0,   0,   0],\n",
              "       [  0,   1,   0,   0,   0,   0,   0, 121,   0,   0],\n",
              "       [  0,   1,   0,   0,   0,   0,   0,   0, 104,   0],\n",
              "       [  0,   0,   0,   0,   1,   0,   0,   0,   1, 113]])"
            ]
          },
          "metadata": {},
          "execution_count": 14
        }
      ]
    },
    {
      "cell_type": "code",
      "source": [
        "from sklearn.metrics import ConfusionMatrixDisplay\n",
        "display = ConfusionMatrixDisplay(confusion_matrix = conf_mat)\n",
        "display.plot()\n",
        "plt.show()"
      ],
      "metadata": {
        "colab": {
          "base_uri": "https://localhost:8080/",
          "height": 279
        },
        "id": "ssJWtHFTdC0H",
        "outputId": "8e1f777e-8d91-4347-c2eb-65d81c77a4c2"
      },
      "execution_count": 15,
      "outputs": [
        {
          "output_type": "display_data",
          "data": {
            "text/plain": [
              "<Figure size 432x288 with 2 Axes>"
            ],
            "image/png": "[encoded data removed]"
          },
          "metadata": {
            "needs_background": "light"
          }
        }
      ]
    },
    {
      "cell_type": "code",
      "source": [
        "from sklearn.metrics import accuracy_score\n",
        "accurancy = accuracy_score(label,pred_1)\n",
        "accurancy"
      ],
      "metadata": {
        "colab": {
          "base_uri": "https://localhost:8080/"
        },
        "id": "4hZW2TK1dPuT",
        "outputId": "fe2fbbc3-239f-4896-c7e1-55587885c222"
      },
      "execution_count": 16,
      "outputs": [
        {
          "output_type": "execute_result",
          "data": {
            "text/plain": [
              "0.9866666666666667"
            ]
          },
          "metadata": {},
          "execution_count": 16
        }
      ]
    },
    {
      "cell_type": "code",
      "source": [
        "pred_idx = pred_1[pred_1 != label]\n",
        "print(pred_idx)\n",
        "print(len(pred_idx))"
      ],
      "metadata": {
        "colab": {
          "base_uri": "https://localhost:8080/"
        },
        "id": "scsyjYdmdbXV",
        "outputId": "17b656df-3da5-4dce-9283-0d477fc7d7a7"
      },
      "execution_count": 17,
      "outputs": [
        {
          "output_type": "stream",
          "name": "stdout",
          "text": [
            "tensor([5, 0, 0, 0, 2, 3, 8, 3, 7, 5, 9, 9, 0, 5, 1, 5])\n",
            "16\n"
          ]
        }
      ]
    },
    {
      "cell_type": "code",
      "source": [
        "label_idx = label[pred_1 != label]\n",
        "print(label_idx)\n",
        "print(len(label_idx))"
      ],
      "metadata": {
        "colab": {
          "base_uri": "https://localhost:8080/"
        },
        "id": "Vk7pey7rfFHQ",
        "outputId": "e51518b9-d099-4a1f-feee-5358947bae94"
      },
      "execution_count": 18,
      "outputs": [
        {
          "output_type": "stream",
          "name": "stdout",
          "text": [
            "tensor([3, 6, 6, 8, 8, 2, 1, 7, 1, 7, 4, 8, 6, 6, 7, 6])\n",
            "16\n"
          ]
        }
      ]
    },
    {
      "cell_type": "code",
      "source": [
        "lst = []\n",
        "for i in range(len(label)):\n",
        "  if label[i] != pred_1[i]:\n",
        "    lst.append(i)\n",
        "print(lst)\n",
        "len(lst)"
      ],
      "metadata": {
        "colab": {
          "base_uri": "https://localhost:8080/"
        },
        "id": "Og7Fay4ckHCC",
        "outputId": "fafa9a4e-df5e-499f-a403-7f2cab7f14c7"
      },
      "execution_count": 20,
      "outputs": [
        {
          "output_type": "stream",
          "name": "stdout",
          "text": [
            "[18, 259, 445, 495, 582, 583, 619, 684, 716, 726, 740, 947, 965, 1014, 1039, 1182]\n"
          ]
        },
        {
          "output_type": "execute_result",
          "data": {
            "text/plain": [
              "16"
            ]
          },
          "metadata": {},
          "execution_count": 20
        }
      ]
    },
    {
      "cell_type": "code",
      "source": [
        "plt.figure(figsize = (36,10))\n",
        "for i in range(len(lst)):\n",
        "  plt.subplot(2,len(lst)//2,i+1)\n",
        "  plt.imshow(img[lst[i]].reshape(32,32))\n",
        "  plt.title(f'Label: {label_idx[i]} Prediction: {pred_idx[i]}',color = 'r',size = 20 )\n",
        "  plt.xticks([])\n",
        "  plt.yticks([])\n",
        "plt.show()"
      ],
      "metadata": {
        "colab": {
          "base_uri": "https://localhost:8080/",
          "height": 354
        },
        "id": "uI5Zou_XfRsB",
        "outputId": "c6bd9b24-99e6-4ca9-850b-ac394bd413dd"
      },
      "execution_count": 30,
      "outputs": [
        {
          "output_type": "display_data",
          "data": {
            "text/plain": [
              "<Figure size 2592x720 with 16 Axes>"
            ],
            "image/png": "[encoded data removed]"
          },
          "metadata": {}
        }
      ]
    },
    {
      "cell_type": "code",
      "source": [],
      "metadata": {
        "id": "QGAaQ0-cjtPs"
      },
      "execution_count": null,
      "outputs": []
    }
  ]
}